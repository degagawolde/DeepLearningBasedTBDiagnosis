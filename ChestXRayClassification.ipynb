{
 "cells": [
  {
   "cell_type": "code",
   "execution_count": 1,
   "id": "ec743c39",
   "metadata": {},
   "outputs": [],
   "source": [
    "from warnings import filterwarnings\n",
    "filterwarnings('ignore')"
   ]
  },
  {
   "cell_type": "markdown",
   "id": "0382d4e7",
   "metadata": {},
   "source": [
    "# CXR Modality-specific pretraining"
   ]
  },
  {
   "cell_type": "markdown",
   "id": "84e9681c",
   "metadata": {},
   "source": [
    "## Import all the packages"
   ]
  },
  {
   "cell_type": "code",
   "execution_count": 2,
   "id": "37e02193",
   "metadata": {},
   "outputs": [],
   "source": [
    "import cv2\n",
    "import os\n",
    "import datetime\n",
    "import time\n",
    "import numpy as np"
   ]
  },
  {
   "cell_type": "code",
   "execution_count": 3,
   "id": "f0cf42c8",
   "metadata": {},
   "outputs": [
    {
     "name": "stdout",
     "output_type": "stream",
     "text": [
      "Init Plugin\n",
      "Init Graph Optimizer\n",
      "Init Kernel\n"
     ]
    }
   ],
   "source": [
    "import tensorflow as tf\n",
    "from tensorflow.keras.preprocessing  import image_dataset_from_directory\n",
    "from tensorflow.keras.layers import Input,UpSampling3D,Dense, Dropout,BatchNormalization \n",
    "from tensorflow.keras.layers import SeparableConv2D, Activation,DepthwiseConv2D,Flatten,concatenate\n",
    "from tensorflow.keras.layers import Conv2D, MaxPooling2D,GlobalAveragePooling2D,Conv2DTranspose, Concatenate\n",
    "from tensorflow.keras.callbacks import ReduceLROnPlateau, EarlyStopping\n",
    "from tensorflow.keras.callbacks import LearningRateScheduler,ModelCheckpoint\n",
    "import tensorflow.keras.backend as K\n",
    "from tensorflow.keras.losses import categorical_crossentropy\n",
    "from tensorflow.keras.preprocessing.image import ImageDataGenerator\n",
    "from tensorflow.keras import layers"
   ]
  },
  {
   "cell_type": "markdown",
   "id": "fc4a779f",
   "metadata": {},
   "source": [
    "## Load the dataset\n",
    "\n",
    "| Source|TB | NTB | NORM|\n",
    "|-------|---|-----|------|\n",
    "|NIH|4287|-|-|\n",
    "|TBX11K|800|3800|3800|\n",
    "|pediatric-pnemonia|-|4273|1575|\n",
    "|**Total Training**|**5087**|**8073**|**5314**|\n",
    "|Shenzhen|336|-|326|\n",
    "|Montegomery|58|-|80|\n",
    "|**Total**|||5394|\n"
   ]
  },
  {
   "cell_type": "code",
   "execution_count": 4,
   "id": "970fd74f",
   "metadata": {},
   "outputs": [
    {
     "name": "stdout",
     "output_type": "stream",
     "text": [
      "5087\n",
      "8065\n",
      "5375\n"
     ]
    }
   ],
   "source": [
    "import glob\n",
    "filename = glob.glob(r'./dataset/TBNTBN/train/TB/*.*')\n",
    "print(len(filename))\n",
    "filename = glob.glob(r'./dataset/TBNTBN/train/NTB/*.*')\n",
    "print(len(filename))\n",
    "filename = glob.glob(r'./dataset/TBNTBN/train/NORM/*.*')\n",
    "print(len(filename))\n",
    "\n"
   ]
  },
  {
   "cell_type": "code",
   "execution_count": 5,
   "id": "1f68f6b3",
   "metadata": {},
   "outputs": [
    {
     "name": "stdout",
     "output_type": "stream",
     "text": [
      "58\n",
      "390\n",
      "245\n"
     ]
    }
   ],
   "source": [
    "import glob\n",
    "filename = glob.glob(r'./dataset/TBNTBN/test/TB/*.*')\n",
    "print(len(filename))\n",
    "filename = glob.glob(r'./dataset/TBNTBN/test/NTB/*.*')\n",
    "print(len(filename))\n",
    "filename = glob.glob(r'./dataset/TBNTBN/test/NORM/*.*')\n",
    "print(len(filename))\n",
    "\n",
    "\n"
   ]
  },
  {
   "cell_type": "code",
   "execution_count": 6,
   "id": "74c64ab9",
   "metadata": {},
   "outputs": [],
   "source": [
    "BATCH_SIZE = 16\n",
    "IMG_SIZE = (256, 256)\n",
    "\n",
    "train_dir = './dataset/TBNTBN/train/'\n",
    "test_dir = './dataset/TBNTBN/test/'"
   ]
  },
  {
   "cell_type": "code",
   "execution_count": 7,
   "id": "15070fa6",
   "metadata": {},
   "outputs": [],
   "source": [
    "from scripts.create_dataset import create_dataset\n"
   ]
  },
  {
   "cell_type": "code",
   "execution_count": 8,
   "id": "b01d37f8",
   "metadata": {},
   "outputs": [],
   "source": [
    "from sklearn.preprocessing import LabelBinarizer\n",
    "train = LabelBinarizer()\n"
   ]
  },
  {
   "cell_type": "code",
   "execution_count": 9,
   "id": "162e87b6",
   "metadata": {},
   "outputs": [
    {
     "name": "stdout",
     "output_type": "stream",
     "text": [
      "loading 500th image for class TB\n",
      "loading 1000th image for class TB\n",
      "loading 1500th image for class TB\n",
      "loading 2000th image for class TB\n",
      "loading 2500th image for class TB\n",
      "loading 3000th image for class TB\n",
      "loading 3500th image for class TB\n",
      "loading 4000th image for class TB\n",
      "loading 4500th image for class TB\n",
      "loading 5000th image for class TB\n",
      "loading 500th image for class NTB\n",
      "loading 1000th image for class NTB\n",
      "loading 1500th image for class NTB\n",
      "loading 2000th image for class NTB\n",
      "loading 2500th image for class NTB\n",
      "loading 3000th image for class NTB\n",
      "loading 3500th image for class NTB\n",
      "loading 4000th image for class NTB\n",
      "loading 4500th image for class NTB\n",
      "loading 5000th image for class NTB\n",
      "loading 5500th image for class NTB\n",
      "loading 6000th image for class NTB\n",
      "loading 6500th image for class NTB\n",
      "loading 7000th image for class NTB\n",
      "loading 7500th image for class NTB\n",
      "loading 8000th image for class NTB\n",
      "loading 500th image for class NORM\n",
      "loading 1000th image for class NORM\n",
      "loading 1500th image for class NORM\n",
      "loading 2000th image for class NORM\n",
      "loading 2500th image for class NORM\n",
      "loading 3000th image for class NORM\n",
      "loading 3500th image for class NORM\n",
      "loading 4000th image for class NORM\n",
      "loading 4500th image for class NORM\n",
      "loading 5000th image for class NORM\n"
     ]
    }
   ],
   "source": [
    "train_data, train_y =create_dataset(train_dir,IMG_SIZE)\n",
    "target_val = train.fit_transform(train_y)\n"
   ]
  },
  {
   "cell_type": "code",
   "execution_count": 10,
   "id": "bc13fc7d",
   "metadata": {},
   "outputs": [],
   "source": [
    "# test = LabelBinarizer()\n",
    "# X_test,y_test = create_dataset(test_dir)\n",
    "# y_test = test.fit_transform(y_test)\n",
    "# X_test = np.array(X_test,)"
   ]
  },
  {
   "cell_type": "code",
   "execution_count": 11,
   "id": "bc3b5d67",
   "metadata": {},
   "outputs": [],
   "source": [
    "from sklearn.model_selection import train_test_split\n",
    "X_train, X_test, y_train, y_test = train_test_split(np.array(train_data, ), \n",
    "                                                    target_val, \n",
    "                                                    test_size=0.15,\n",
    "                                                    random_state=42)\n",
    "\n"
   ]
  },
  {
   "cell_type": "code",
   "execution_count": 12,
   "id": "f17573dc",
   "metadata": {},
   "outputs": [],
   "source": [
    "def build_model(input_shape):\n",
    "    inputs = Input(shape=input_shape, name=\"input_image\")\n",
    "    mobilenetv2 = tf.keras.applications.MobileNetV2(\n",
    "        input_tensor = inputs, \n",
    "        weights=\"imagenet\", include_top=False, alpha=0.35)\n",
    "    \n",
    "    x = mobilenetv2.get_layer('out_relu').output\n",
    "    x = GlobalAveragePooling2D(name='gap')(x)\n",
    "    output = Dense(3,activation='softmax')(x)\n",
    "    return tf.keras.Model(inputs,output)\n"
   ]
  },
  {
   "cell_type": "code",
   "execution_count": 13,
   "id": "5caf4cde",
   "metadata": {
    "scrolled": true
   },
   "outputs": [
    {
     "name": "stdout",
     "output_type": "stream",
     "text": [
      "WARNING:tensorflow:`input_shape` is undefined or non-square, or `rows` is not in [96, 128, 160, 192, 224]. Weights for input shape (224, 224) will be loaded as the default.\n",
      "Metal device set to: Apple M1\n"
     ]
    },
    {
     "name": "stderr",
     "output_type": "stream",
     "text": [
      "2022-09-26 14:50:59.973078: I tensorflow/core/common_runtime/pluggable_device/pluggable_device_factory.cc:305] Could not identify NUMA node of platform GPU ID 0, defaulting to 0. Your kernel may not have been built with NUMA support.\n",
      "2022-09-26 14:50:59.973987: I tensorflow/core/common_runtime/pluggable_device/pluggable_device_factory.cc:271] Created TensorFlow device (/job:localhost/replica:0/task:0/device:GPU:0 with 0 MB memory) -> physical PluggableDevice (device: 0, name: METAL, pci bus id: <undefined>)\n"
     ]
    },
    {
     "name": "stdout",
     "output_type": "stream",
     "text": [
      "Model: \"model\"\n",
      "__________________________________________________________________________________________________\n",
      "Layer (type)                    Output Shape         Param #     Connected to                     \n",
      "==================================================================================================\n",
      "input_image (InputLayer)        [(None, 256, 256, 3) 0                                            \n",
      "__________________________________________________________________________________________________\n",
      "Conv1 (Conv2D)                  (None, 128, 128, 16) 432         input_image[0][0]                \n",
      "__________________________________________________________________________________________________\n",
      "bn_Conv1 (BatchNormalization)   (None, 128, 128, 16) 64          Conv1[0][0]                      \n",
      "__________________________________________________________________________________________________\n",
      "Conv1_relu (ReLU)               (None, 128, 128, 16) 0           bn_Conv1[0][0]                   \n",
      "__________________________________________________________________________________________________\n",
      "expanded_conv_depthwise (Depthw (None, 128, 128, 16) 144         Conv1_relu[0][0]                 \n",
      "__________________________________________________________________________________________________\n",
      "expanded_conv_depthwise_BN (Bat (None, 128, 128, 16) 64          expanded_conv_depthwise[0][0]    \n",
      "__________________________________________________________________________________________________\n",
      "expanded_conv_depthwise_relu (R (None, 128, 128, 16) 0           expanded_conv_depthwise_BN[0][0] \n",
      "__________________________________________________________________________________________________\n",
      "expanded_conv_project (Conv2D)  (None, 128, 128, 8)  128         expanded_conv_depthwise_relu[0][0\n",
      "__________________________________________________________________________________________________\n",
      "expanded_conv_project_BN (Batch (None, 128, 128, 8)  32          expanded_conv_project[0][0]      \n",
      "__________________________________________________________________________________________________\n",
      "block_1_expand (Conv2D)         (None, 128, 128, 48) 384         expanded_conv_project_BN[0][0]   \n",
      "__________________________________________________________________________________________________\n",
      "block_1_expand_BN (BatchNormali (None, 128, 128, 48) 192         block_1_expand[0][0]             \n",
      "__________________________________________________________________________________________________\n",
      "block_1_expand_relu (ReLU)      (None, 128, 128, 48) 0           block_1_expand_BN[0][0]          \n",
      "__________________________________________________________________________________________________\n",
      "block_1_pad (ZeroPadding2D)     (None, 129, 129, 48) 0           block_1_expand_relu[0][0]        \n",
      "__________________________________________________________________________________________________\n",
      "block_1_depthwise (DepthwiseCon (None, 64, 64, 48)   432         block_1_pad[0][0]                \n",
      "__________________________________________________________________________________________________\n",
      "block_1_depthwise_BN (BatchNorm (None, 64, 64, 48)   192         block_1_depthwise[0][0]          \n",
      "__________________________________________________________________________________________________\n",
      "block_1_depthwise_relu (ReLU)   (None, 64, 64, 48)   0           block_1_depthwise_BN[0][0]       \n",
      "__________________________________________________________________________________________________\n",
      "block_1_project (Conv2D)        (None, 64, 64, 8)    384         block_1_depthwise_relu[0][0]     \n",
      "__________________________________________________________________________________________________\n",
      "block_1_project_BN (BatchNormal (None, 64, 64, 8)    32          block_1_project[0][0]            \n",
      "__________________________________________________________________________________________________\n",
      "block_2_expand (Conv2D)         (None, 64, 64, 48)   384         block_1_project_BN[0][0]         \n",
      "__________________________________________________________________________________________________\n",
      "block_2_expand_BN (BatchNormali (None, 64, 64, 48)   192         block_2_expand[0][0]             \n",
      "__________________________________________________________________________________________________\n",
      "block_2_expand_relu (ReLU)      (None, 64, 64, 48)   0           block_2_expand_BN[0][0]          \n",
      "__________________________________________________________________________________________________\n",
      "block_2_depthwise (DepthwiseCon (None, 64, 64, 48)   432         block_2_expand_relu[0][0]        \n",
      "__________________________________________________________________________________________________\n",
      "block_2_depthwise_BN (BatchNorm (None, 64, 64, 48)   192         block_2_depthwise[0][0]          \n",
      "__________________________________________________________________________________________________\n",
      "block_2_depthwise_relu (ReLU)   (None, 64, 64, 48)   0           block_2_depthwise_BN[0][0]       \n",
      "__________________________________________________________________________________________________\n",
      "block_2_project (Conv2D)        (None, 64, 64, 8)    384         block_2_depthwise_relu[0][0]     \n",
      "__________________________________________________________________________________________________\n",
      "block_2_project_BN (BatchNormal (None, 64, 64, 8)    32          block_2_project[0][0]            \n",
      "__________________________________________________________________________________________________\n",
      "block_2_add (Add)               (None, 64, 64, 8)    0           block_1_project_BN[0][0]         \n",
      "                                                                 block_2_project_BN[0][0]         \n",
      "__________________________________________________________________________________________________\n",
      "block_3_expand (Conv2D)         (None, 64, 64, 48)   384         block_2_add[0][0]                \n",
      "__________________________________________________________________________________________________\n",
      "block_3_expand_BN (BatchNormali (None, 64, 64, 48)   192         block_3_expand[0][0]             \n",
      "__________________________________________________________________________________________________\n",
      "block_3_expand_relu (ReLU)      (None, 64, 64, 48)   0           block_3_expand_BN[0][0]          \n",
      "__________________________________________________________________________________________________\n",
      "block_3_pad (ZeroPadding2D)     (None, 65, 65, 48)   0           block_3_expand_relu[0][0]        \n",
      "__________________________________________________________________________________________________\n",
      "block_3_depthwise (DepthwiseCon (None, 32, 32, 48)   432         block_3_pad[0][0]                \n",
      "__________________________________________________________________________________________________\n",
      "block_3_depthwise_BN (BatchNorm (None, 32, 32, 48)   192         block_3_depthwise[0][0]          \n",
      "__________________________________________________________________________________________________\n",
      "block_3_depthwise_relu (ReLU)   (None, 32, 32, 48)   0           block_3_depthwise_BN[0][0]       \n",
      "__________________________________________________________________________________________________\n",
      "block_3_project (Conv2D)        (None, 32, 32, 16)   768         block_3_depthwise_relu[0][0]     \n",
      "__________________________________________________________________________________________________\n",
      "block_3_project_BN (BatchNormal (None, 32, 32, 16)   64          block_3_project[0][0]            \n",
      "__________________________________________________________________________________________________\n",
      "block_4_expand (Conv2D)         (None, 32, 32, 96)   1536        block_3_project_BN[0][0]         \n",
      "__________________________________________________________________________________________________\n",
      "block_4_expand_BN (BatchNormali (None, 32, 32, 96)   384         block_4_expand[0][0]             \n",
      "__________________________________________________________________________________________________\n",
      "block_4_expand_relu (ReLU)      (None, 32, 32, 96)   0           block_4_expand_BN[0][0]          \n",
      "__________________________________________________________________________________________________\n",
      "block_4_depthwise (DepthwiseCon (None, 32, 32, 96)   864         block_4_expand_relu[0][0]        \n",
      "__________________________________________________________________________________________________\n",
      "block_4_depthwise_BN (BatchNorm (None, 32, 32, 96)   384         block_4_depthwise[0][0]          \n",
      "__________________________________________________________________________________________________\n",
      "block_4_depthwise_relu (ReLU)   (None, 32, 32, 96)   0           block_4_depthwise_BN[0][0]       \n",
      "__________________________________________________________________________________________________\n",
      "block_4_project (Conv2D)        (None, 32, 32, 16)   1536        block_4_depthwise_relu[0][0]     \n",
      "__________________________________________________________________________________________________\n",
      "block_4_project_BN (BatchNormal (None, 32, 32, 16)   64          block_4_project[0][0]            \n",
      "__________________________________________________________________________________________________\n",
      "block_4_add (Add)               (None, 32, 32, 16)   0           block_3_project_BN[0][0]         \n",
      "                                                                 block_4_project_BN[0][0]         \n",
      "__________________________________________________________________________________________________\n",
      "block_5_expand (Conv2D)         (None, 32, 32, 96)   1536        block_4_add[0][0]                \n",
      "__________________________________________________________________________________________________\n",
      "block_5_expand_BN (BatchNormali (None, 32, 32, 96)   384         block_5_expand[0][0]             \n",
      "__________________________________________________________________________________________________\n",
      "block_5_expand_relu (ReLU)      (None, 32, 32, 96)   0           block_5_expand_BN[0][0]          \n",
      "__________________________________________________________________________________________________\n",
      "block_5_depthwise (DepthwiseCon (None, 32, 32, 96)   864         block_5_expand_relu[0][0]        \n",
      "__________________________________________________________________________________________________\n",
      "block_5_depthwise_BN (BatchNorm (None, 32, 32, 96)   384         block_5_depthwise[0][0]          \n",
      "__________________________________________________________________________________________________\n",
      "block_5_depthwise_relu (ReLU)   (None, 32, 32, 96)   0           block_5_depthwise_BN[0][0]       \n",
      "__________________________________________________________________________________________________\n",
      "block_5_project (Conv2D)        (None, 32, 32, 16)   1536        block_5_depthwise_relu[0][0]     \n",
      "__________________________________________________________________________________________________\n",
      "block_5_project_BN (BatchNormal (None, 32, 32, 16)   64          block_5_project[0][0]            \n",
      "__________________________________________________________________________________________________\n",
      "block_5_add (Add)               (None, 32, 32, 16)   0           block_4_add[0][0]                \n",
      "                                                                 block_5_project_BN[0][0]         \n",
      "__________________________________________________________________________________________________\n",
      "block_6_expand (Conv2D)         (None, 32, 32, 96)   1536        block_5_add[0][0]                \n",
      "__________________________________________________________________________________________________\n",
      "block_6_expand_BN (BatchNormali (None, 32, 32, 96)   384         block_6_expand[0][0]             \n",
      "__________________________________________________________________________________________________\n",
      "block_6_expand_relu (ReLU)      (None, 32, 32, 96)   0           block_6_expand_BN[0][0]          \n",
      "__________________________________________________________________________________________________\n",
      "block_6_pad (ZeroPadding2D)     (None, 33, 33, 96)   0           block_6_expand_relu[0][0]        \n",
      "__________________________________________________________________________________________________\n",
      "block_6_depthwise (DepthwiseCon (None, 16, 16, 96)   864         block_6_pad[0][0]                \n",
      "__________________________________________________________________________________________________\n",
      "block_6_depthwise_BN (BatchNorm (None, 16, 16, 96)   384         block_6_depthwise[0][0]          \n",
      "__________________________________________________________________________________________________\n",
      "block_6_depthwise_relu (ReLU)   (None, 16, 16, 96)   0           block_6_depthwise_BN[0][0]       \n",
      "__________________________________________________________________________________________________\n",
      "block_6_project (Conv2D)        (None, 16, 16, 24)   2304        block_6_depthwise_relu[0][0]     \n",
      "__________________________________________________________________________________________________\n",
      "block_6_project_BN (BatchNormal (None, 16, 16, 24)   96          block_6_project[0][0]            \n",
      "__________________________________________________________________________________________________\n",
      "block_7_expand (Conv2D)         (None, 16, 16, 144)  3456        block_6_project_BN[0][0]         \n",
      "__________________________________________________________________________________________________\n",
      "block_7_expand_BN (BatchNormali (None, 16, 16, 144)  576         block_7_expand[0][0]             \n",
      "__________________________________________________________________________________________________\n",
      "block_7_expand_relu (ReLU)      (None, 16, 16, 144)  0           block_7_expand_BN[0][0]          \n",
      "__________________________________________________________________________________________________\n",
      "block_7_depthwise (DepthwiseCon (None, 16, 16, 144)  1296        block_7_expand_relu[0][0]        \n",
      "__________________________________________________________________________________________________\n",
      "block_7_depthwise_BN (BatchNorm (None, 16, 16, 144)  576         block_7_depthwise[0][0]          \n",
      "__________________________________________________________________________________________________\n",
      "block_7_depthwise_relu (ReLU)   (None, 16, 16, 144)  0           block_7_depthwise_BN[0][0]       \n",
      "__________________________________________________________________________________________________\n",
      "block_7_project (Conv2D)        (None, 16, 16, 24)   3456        block_7_depthwise_relu[0][0]     \n",
      "__________________________________________________________________________________________________\n",
      "block_7_project_BN (BatchNormal (None, 16, 16, 24)   96          block_7_project[0][0]            \n",
      "__________________________________________________________________________________________________\n",
      "block_7_add (Add)               (None, 16, 16, 24)   0           block_6_project_BN[0][0]         \n",
      "                                                                 block_7_project_BN[0][0]         \n",
      "__________________________________________________________________________________________________\n",
      "block_8_expand (Conv2D)         (None, 16, 16, 144)  3456        block_7_add[0][0]                \n",
      "__________________________________________________________________________________________________\n",
      "block_8_expand_BN (BatchNormali (None, 16, 16, 144)  576         block_8_expand[0][0]             \n",
      "__________________________________________________________________________________________________\n",
      "block_8_expand_relu (ReLU)      (None, 16, 16, 144)  0           block_8_expand_BN[0][0]          \n",
      "__________________________________________________________________________________________________\n",
      "block_8_depthwise (DepthwiseCon (None, 16, 16, 144)  1296        block_8_expand_relu[0][0]        \n",
      "__________________________________________________________________________________________________\n",
      "block_8_depthwise_BN (BatchNorm (None, 16, 16, 144)  576         block_8_depthwise[0][0]          \n",
      "__________________________________________________________________________________________________\n",
      "block_8_depthwise_relu (ReLU)   (None, 16, 16, 144)  0           block_8_depthwise_BN[0][0]       \n",
      "__________________________________________________________________________________________________\n",
      "block_8_project (Conv2D)        (None, 16, 16, 24)   3456        block_8_depthwise_relu[0][0]     \n",
      "__________________________________________________________________________________________________\n",
      "block_8_project_BN (BatchNormal (None, 16, 16, 24)   96          block_8_project[0][0]            \n",
      "__________________________________________________________________________________________________\n",
      "block_8_add (Add)               (None, 16, 16, 24)   0           block_7_add[0][0]                \n",
      "                                                                 block_8_project_BN[0][0]         \n",
      "__________________________________________________________________________________________________\n",
      "block_9_expand (Conv2D)         (None, 16, 16, 144)  3456        block_8_add[0][0]                \n",
      "__________________________________________________________________________________________________\n",
      "block_9_expand_BN (BatchNormali (None, 16, 16, 144)  576         block_9_expand[0][0]             \n",
      "__________________________________________________________________________________________________\n",
      "block_9_expand_relu (ReLU)      (None, 16, 16, 144)  0           block_9_expand_BN[0][0]          \n",
      "__________________________________________________________________________________________________\n",
      "block_9_depthwise (DepthwiseCon (None, 16, 16, 144)  1296        block_9_expand_relu[0][0]        \n",
      "__________________________________________________________________________________________________\n",
      "block_9_depthwise_BN (BatchNorm (None, 16, 16, 144)  576         block_9_depthwise[0][0]          \n",
      "__________________________________________________________________________________________________\n",
      "block_9_depthwise_relu (ReLU)   (None, 16, 16, 144)  0           block_9_depthwise_BN[0][0]       \n",
      "__________________________________________________________________________________________________\n",
      "block_9_project (Conv2D)        (None, 16, 16, 24)   3456        block_9_depthwise_relu[0][0]     \n",
      "__________________________________________________________________________________________________\n",
      "block_9_project_BN (BatchNormal (None, 16, 16, 24)   96          block_9_project[0][0]            \n",
      "__________________________________________________________________________________________________\n",
      "block_9_add (Add)               (None, 16, 16, 24)   0           block_8_add[0][0]                \n",
      "                                                                 block_9_project_BN[0][0]         \n",
      "__________________________________________________________________________________________________\n",
      "block_10_expand (Conv2D)        (None, 16, 16, 144)  3456        block_9_add[0][0]                \n",
      "__________________________________________________________________________________________________\n",
      "block_10_expand_BN (BatchNormal (None, 16, 16, 144)  576         block_10_expand[0][0]            \n",
      "__________________________________________________________________________________________________\n",
      "block_10_expand_relu (ReLU)     (None, 16, 16, 144)  0           block_10_expand_BN[0][0]         \n",
      "__________________________________________________________________________________________________\n",
      "block_10_depthwise (DepthwiseCo (None, 16, 16, 144)  1296        block_10_expand_relu[0][0]       \n",
      "__________________________________________________________________________________________________\n",
      "block_10_depthwise_BN (BatchNor (None, 16, 16, 144)  576         block_10_depthwise[0][0]         \n",
      "__________________________________________________________________________________________________\n",
      "block_10_depthwise_relu (ReLU)  (None, 16, 16, 144)  0           block_10_depthwise_BN[0][0]      \n",
      "__________________________________________________________________________________________________\n",
      "block_10_project (Conv2D)       (None, 16, 16, 32)   4608        block_10_depthwise_relu[0][0]    \n",
      "__________________________________________________________________________________________________\n",
      "block_10_project_BN (BatchNorma (None, 16, 16, 32)   128         block_10_project[0][0]           \n",
      "__________________________________________________________________________________________________\n",
      "block_11_expand (Conv2D)        (None, 16, 16, 192)  6144        block_10_project_BN[0][0]        \n",
      "__________________________________________________________________________________________________\n",
      "block_11_expand_BN (BatchNormal (None, 16, 16, 192)  768         block_11_expand[0][0]            \n",
      "__________________________________________________________________________________________________\n",
      "block_11_expand_relu (ReLU)     (None, 16, 16, 192)  0           block_11_expand_BN[0][0]         \n",
      "__________________________________________________________________________________________________\n",
      "block_11_depthwise (DepthwiseCo (None, 16, 16, 192)  1728        block_11_expand_relu[0][0]       \n",
      "__________________________________________________________________________________________________\n",
      "block_11_depthwise_BN (BatchNor (None, 16, 16, 192)  768         block_11_depthwise[0][0]         \n",
      "__________________________________________________________________________________________________\n",
      "block_11_depthwise_relu (ReLU)  (None, 16, 16, 192)  0           block_11_depthwise_BN[0][0]      \n",
      "__________________________________________________________________________________________________\n",
      "block_11_project (Conv2D)       (None, 16, 16, 32)   6144        block_11_depthwise_relu[0][0]    \n",
      "__________________________________________________________________________________________________\n",
      "block_11_project_BN (BatchNorma (None, 16, 16, 32)   128         block_11_project[0][0]           \n",
      "__________________________________________________________________________________________________\n",
      "block_11_add (Add)              (None, 16, 16, 32)   0           block_10_project_BN[0][0]        \n",
      "                                                                 block_11_project_BN[0][0]        \n",
      "__________________________________________________________________________________________________\n",
      "block_12_expand (Conv2D)        (None, 16, 16, 192)  6144        block_11_add[0][0]               \n",
      "__________________________________________________________________________________________________\n",
      "block_12_expand_BN (BatchNormal (None, 16, 16, 192)  768         block_12_expand[0][0]            \n",
      "__________________________________________________________________________________________________\n",
      "block_12_expand_relu (ReLU)     (None, 16, 16, 192)  0           block_12_expand_BN[0][0]         \n",
      "__________________________________________________________________________________________________\n",
      "block_12_depthwise (DepthwiseCo (None, 16, 16, 192)  1728        block_12_expand_relu[0][0]       \n",
      "__________________________________________________________________________________________________\n",
      "block_12_depthwise_BN (BatchNor (None, 16, 16, 192)  768         block_12_depthwise[0][0]         \n",
      "__________________________________________________________________________________________________\n",
      "block_12_depthwise_relu (ReLU)  (None, 16, 16, 192)  0           block_12_depthwise_BN[0][0]      \n",
      "__________________________________________________________________________________________________\n",
      "block_12_project (Conv2D)       (None, 16, 16, 32)   6144        block_12_depthwise_relu[0][0]    \n",
      "__________________________________________________________________________________________________\n",
      "block_12_project_BN (BatchNorma (None, 16, 16, 32)   128         block_12_project[0][0]           \n",
      "__________________________________________________________________________________________________\n",
      "block_12_add (Add)              (None, 16, 16, 32)   0           block_11_add[0][0]               \n",
      "                                                                 block_12_project_BN[0][0]        \n",
      "__________________________________________________________________________________________________\n",
      "block_13_expand (Conv2D)        (None, 16, 16, 192)  6144        block_12_add[0][0]               \n",
      "__________________________________________________________________________________________________\n",
      "block_13_expand_BN (BatchNormal (None, 16, 16, 192)  768         block_13_expand[0][0]            \n",
      "__________________________________________________________________________________________________\n",
      "block_13_expand_relu (ReLU)     (None, 16, 16, 192)  0           block_13_expand_BN[0][0]         \n",
      "__________________________________________________________________________________________________\n",
      "block_13_pad (ZeroPadding2D)    (None, 17, 17, 192)  0           block_13_expand_relu[0][0]       \n",
      "__________________________________________________________________________________________________\n",
      "block_13_depthwise (DepthwiseCo (None, 8, 8, 192)    1728        block_13_pad[0][0]               \n",
      "__________________________________________________________________________________________________\n",
      "block_13_depthwise_BN (BatchNor (None, 8, 8, 192)    768         block_13_depthwise[0][0]         \n",
      "__________________________________________________________________________________________________\n",
      "block_13_depthwise_relu (ReLU)  (None, 8, 8, 192)    0           block_13_depthwise_BN[0][0]      \n",
      "__________________________________________________________________________________________________\n",
      "block_13_project (Conv2D)       (None, 8, 8, 56)     10752       block_13_depthwise_relu[0][0]    \n",
      "__________________________________________________________________________________________________\n",
      "block_13_project_BN (BatchNorma (None, 8, 8, 56)     224         block_13_project[0][0]           \n",
      "__________________________________________________________________________________________________\n",
      "block_14_expand (Conv2D)        (None, 8, 8, 336)    18816       block_13_project_BN[0][0]        \n",
      "__________________________________________________________________________________________________\n",
      "block_14_expand_BN (BatchNormal (None, 8, 8, 336)    1344        block_14_expand[0][0]            \n",
      "__________________________________________________________________________________________________\n",
      "block_14_expand_relu (ReLU)     (None, 8, 8, 336)    0           block_14_expand_BN[0][0]         \n",
      "__________________________________________________________________________________________________\n",
      "block_14_depthwise (DepthwiseCo (None, 8, 8, 336)    3024        block_14_expand_relu[0][0]       \n",
      "__________________________________________________________________________________________________\n",
      "block_14_depthwise_BN (BatchNor (None, 8, 8, 336)    1344        block_14_depthwise[0][0]         \n",
      "__________________________________________________________________________________________________\n",
      "block_14_depthwise_relu (ReLU)  (None, 8, 8, 336)    0           block_14_depthwise_BN[0][0]      \n",
      "__________________________________________________________________________________________________\n",
      "block_14_project (Conv2D)       (None, 8, 8, 56)     18816       block_14_depthwise_relu[0][0]    \n",
      "__________________________________________________________________________________________________\n",
      "block_14_project_BN (BatchNorma (None, 8, 8, 56)     224         block_14_project[0][0]           \n",
      "__________________________________________________________________________________________________\n",
      "block_14_add (Add)              (None, 8, 8, 56)     0           block_13_project_BN[0][0]        \n",
      "                                                                 block_14_project_BN[0][0]        \n",
      "__________________________________________________________________________________________________\n",
      "block_15_expand (Conv2D)        (None, 8, 8, 336)    18816       block_14_add[0][0]               \n",
      "__________________________________________________________________________________________________\n",
      "block_15_expand_BN (BatchNormal (None, 8, 8, 336)    1344        block_15_expand[0][0]            \n",
      "__________________________________________________________________________________________________\n",
      "block_15_expand_relu (ReLU)     (None, 8, 8, 336)    0           block_15_expand_BN[0][0]         \n",
      "__________________________________________________________________________________________________\n",
      "block_15_depthwise (DepthwiseCo (None, 8, 8, 336)    3024        block_15_expand_relu[0][0]       \n",
      "__________________________________________________________________________________________________\n",
      "block_15_depthwise_BN (BatchNor (None, 8, 8, 336)    1344        block_15_depthwise[0][0]         \n",
      "__________________________________________________________________________________________________\n",
      "block_15_depthwise_relu (ReLU)  (None, 8, 8, 336)    0           block_15_depthwise_BN[0][0]      \n",
      "__________________________________________________________________________________________________\n",
      "block_15_project (Conv2D)       (None, 8, 8, 56)     18816       block_15_depthwise_relu[0][0]    \n",
      "__________________________________________________________________________________________________\n",
      "block_15_project_BN (BatchNorma (None, 8, 8, 56)     224         block_15_project[0][0]           \n",
      "__________________________________________________________________________________________________\n",
      "block_15_add (Add)              (None, 8, 8, 56)     0           block_14_add[0][0]               \n",
      "                                                                 block_15_project_BN[0][0]        \n",
      "__________________________________________________________________________________________________\n",
      "block_16_expand (Conv2D)        (None, 8, 8, 336)    18816       block_15_add[0][0]               \n",
      "__________________________________________________________________________________________________\n",
      "block_16_expand_BN (BatchNormal (None, 8, 8, 336)    1344        block_16_expand[0][0]            \n",
      "__________________________________________________________________________________________________\n",
      "block_16_expand_relu (ReLU)     (None, 8, 8, 336)    0           block_16_expand_BN[0][0]         \n",
      "__________________________________________________________________________________________________\n",
      "block_16_depthwise (DepthwiseCo (None, 8, 8, 336)    3024        block_16_expand_relu[0][0]       \n",
      "__________________________________________________________________________________________________\n",
      "block_16_depthwise_BN (BatchNor (None, 8, 8, 336)    1344        block_16_depthwise[0][0]         \n",
      "__________________________________________________________________________________________________\n",
      "block_16_depthwise_relu (ReLU)  (None, 8, 8, 336)    0           block_16_depthwise_BN[0][0]      \n",
      "__________________________________________________________________________________________________\n",
      "block_16_project (Conv2D)       (None, 8, 8, 112)    37632       block_16_depthwise_relu[0][0]    \n",
      "__________________________________________________________________________________________________\n",
      "block_16_project_BN (BatchNorma (None, 8, 8, 112)    448         block_16_project[0][0]           \n",
      "__________________________________________________________________________________________________\n",
      "Conv_1 (Conv2D)                 (None, 8, 8, 1280)   143360      block_16_project_BN[0][0]        \n",
      "__________________________________________________________________________________________________\n",
      "Conv_1_bn (BatchNormalization)  (None, 8, 8, 1280)   5120        Conv_1[0][0]                     \n",
      "__________________________________________________________________________________________________\n",
      "out_relu (ReLU)                 (None, 8, 8, 1280)   0           Conv_1_bn[0][0]                  \n",
      "__________________________________________________________________________________________________\n",
      "gap (GlobalAveragePooling2D)    (None, 1280)         0           out_relu[0][0]                   \n",
      "__________________________________________________________________________________________________\n",
      "dense (Dense)                   (None, 3)            3843        gap[0][0]                        \n",
      "==================================================================================================\n",
      "Total params: 414,051\n",
      "Trainable params: 399,971\n",
      "Non-trainable params: 14,080\n",
      "__________________________________________________________________________________________________\n"
     ]
    }
   ],
   "source": [
    "model = build_model(input_shape=(256,256,3))\n",
    "model.compile(optimizer= tf.keras.optimizers.Adam(learning_rate=0.0001),\n",
    "                         loss='categorical_crossentropy',\n",
    "                         metrics=['accuracy'])\n",
    "model.summary() "
   ]
  },
  {
   "cell_type": "code",
   "execution_count": 14,
   "id": "c076c4af",
   "metadata": {
    "scrolled": true
   },
   "outputs": [],
   "source": [
    "# tf.keras.utils.plot_model(model, \"without_sincnet.png\", show_shapes=True)"
   ]
  },
  {
   "cell_type": "code",
   "execution_count": 15,
   "id": "3fd021af",
   "metadata": {
    "scrolled": true
   },
   "outputs": [
    {
     "name": "stderr",
     "output_type": "stream",
     "text": [
      "2022-09-26 14:51:00.597644: I tensorflow/core/profiler/lib/profiler_session.cc:126] Profiler session initializing.\n",
      "2022-09-26 14:51:00.597664: I tensorflow/core/profiler/lib/profiler_session.cc:141] Profiler session started.\n",
      "2022-09-26 14:51:00.598325: I tensorflow/core/profiler/lib/profiler_session.cc:159] Profiler session tear down.\n"
     ]
    }
   ],
   "source": [
    "log_dir = \"logs/fit/\" + datetime.datetime.now().strftime(\"%Y%m%d-%H%M%S\")\n",
    "callback = [\n",
    "    tf.keras.callbacks.ReduceLROnPlateau(\n",
    "        monitor=\"val_loss\", factor=0.1, patience=3, verbose=1, min_lr=1e-8 ),\n",
    "    tf.keras.callbacks.TensorBoard(log_dir=log_dir, histogram_freq=1),\n",
    "    tf.keras.callbacks.ModelCheckpoint(\n",
    "        filepath='output/class_weights.{epoch:02d}-{val_loss:.2f}.hdf5',\n",
    "        save_best_only=True,save_weights_only=True,verbose=1)\n",
    "           ]"
   ]
  },
  {
   "cell_type": "code",
   "execution_count": 16,
   "id": "25ff4e0e",
   "metadata": {
    "scrolled": false
   },
   "outputs": [
    {
     "name": "stderr",
     "output_type": "stream",
     "text": [
      "2022-09-26 14:51:01.280929: I tensorflow/compiler/mlir/mlir_graph_optimization_pass.cc:176] None of the MLIR Optimization Passes are enabled (registered 2)\n",
      "2022-09-26 14:51:01.284843: W tensorflow/core/platform/profile_utils/cpu_utils.cc:128] Failed to get CPU frequency: 0 Hz\n"
     ]
    },
    {
     "name": "stdout",
     "output_type": "stream",
     "text": [
      "Epoch 1/15\n"
     ]
    },
    {
     "name": "stderr",
     "output_type": "stream",
     "text": [
      "2022-09-26 14:51:02.242092: I tensorflow/core/grappler/optimizers/custom_graph_optimizer_registry.cc:112] Plugin optimizer for device_type GPU is enabled.\n"
     ]
    },
    {
     "name": "stdout",
     "output_type": "stream",
     "text": [
      "  2/837 [..............................] - ETA: 2:48 - loss: 1.4708 - accuracy: 0.1875 "
     ]
    },
    {
     "name": "stderr",
     "output_type": "stream",
     "text": [
      "2022-09-26 14:51:05.091822: I tensorflow/core/profiler/lib/profiler_session.cc:126] Profiler session initializing.\n",
      "2022-09-26 14:51:05.091834: I tensorflow/core/profiler/lib/profiler_session.cc:141] Profiler session started.\n",
      "2022-09-26 14:51:05.257307: I tensorflow/core/profiler/lib/profiler_session.cc:66] Profiler session collecting data.\n",
      "2022-09-26 14:51:05.262456: I tensorflow/core/profiler/lib/profiler_session.cc:159] Profiler session tear down.\n",
      "2022-09-26 14:51:05.267993: I tensorflow/core/profiler/rpc/client/save_profile.cc:137] Creating directory: logs/fit/20220926-145100/train/plugins/profile/2022_09_26_14_51_05\n",
      "2022-09-26 14:51:05.271419: I tensorflow/core/profiler/rpc/client/save_profile.cc:143] Dumped gzipped tool data for trace.json.gz to logs/fit/20220926-145100/train/plugins/profile/2022_09_26_14_51_05/users-MacBook-Pro.local.trace.json.gz\n",
      "2022-09-26 14:51:05.277569: I tensorflow/core/profiler/rpc/client/save_profile.cc:137] Creating directory: logs/fit/20220926-145100/train/plugins/profile/2022_09_26_14_51_05\n",
      "2022-09-26 14:51:05.292601: I tensorflow/core/profiler/rpc/client/save_profile.cc:143] Dumped gzipped tool data for memory_profile.json.gz to logs/fit/20220926-145100/train/plugins/profile/2022_09_26_14_51_05/users-MacBook-Pro.local.memory_profile.json.gz\n",
      "2022-09-26 14:51:05.293283: I tensorflow/core/profiler/rpc/client/capture_profile.cc:251] Creating directory: logs/fit/20220926-145100/train/plugins/profile/2022_09_26_14_51_05Dumped tool data for xplane.pb to logs/fit/20220926-145100/train/plugins/profile/2022_09_26_14_51_05/users-MacBook-Pro.local.xplane.pb\n",
      "Dumped tool data for overview_page.pb to logs/fit/20220926-145100/train/plugins/profile/2022_09_26_14_51_05/users-MacBook-Pro.local.overview_page.pb\n",
      "Dumped tool data for input_pipeline.pb to logs/fit/20220926-145100/train/plugins/profile/2022_09_26_14_51_05/users-MacBook-Pro.local.input_pipeline.pb\n",
      "Dumped tool data for tensorflow_stats.pb to logs/fit/20220926-145100/train/plugins/profile/2022_09_26_14_51_05/users-MacBook-Pro.local.tensorflow_stats.pb\n",
      "Dumped tool data for kernel_stats.pb to logs/fit/20220926-145100/train/plugins/profile/2022_09_26_14_51_05/users-MacBook-Pro.local.kernel_stats.pb\n",
      "\n"
     ]
    },
    {
     "name": "stdout",
     "output_type": "stream",
     "text": [
      "837/837 [==============================] - ETA: 0s - loss: 0.2062 - accuracy: 0.9267"
     ]
    },
    {
     "name": "stderr",
     "output_type": "stream",
     "text": [
      "2022-09-26 14:53:28.415709: I tensorflow/core/grappler/optimizers/custom_graph_optimizer_registry.cc:112] Plugin optimizer for device_type GPU is enabled.\n"
     ]
    },
    {
     "name": "stdout",
     "output_type": "stream",
     "text": [
      "837/837 [==============================] - 155s 181ms/step - loss: 0.2062 - accuracy: 0.9267 - val_loss: 0.7642 - val_accuracy: 0.6729\n",
      "\n",
      "Epoch 00001: val_loss improved from inf to 0.76423, saving model to output/class_weights.01-0.76.hdf5\n",
      "Epoch 2/15\n",
      "837/837 [==============================] - 148s 176ms/step - loss: 0.0815 - accuracy: 0.9731 - val_loss: 0.0931 - val_accuracy: 0.9683\n",
      "\n",
      "Epoch 00002: val_loss improved from 0.76423 to 0.09315, saving model to output/class_weights.02-0.09.hdf5\n",
      "Epoch 3/15\n",
      "837/837 [==============================] - 144s 172ms/step - loss: 0.0524 - accuracy: 0.9824 - val_loss: 0.0767 - val_accuracy: 0.9771\n",
      "\n",
      "Epoch 00003: val_loss improved from 0.09315 to 0.07667, saving model to output/class_weights.03-0.08.hdf5\n",
      "Epoch 4/15\n",
      "837/837 [==============================] - 145s 173ms/step - loss: 0.0372 - accuracy: 0.9874 - val_loss: 0.0568 - val_accuracy: 0.9869\n",
      "\n",
      "Epoch 00004: val_loss improved from 0.07667 to 0.05680, saving model to output/class_weights.04-0.06.hdf5\n",
      "Epoch 5/15\n",
      "837/837 [==============================] - 153s 183ms/step - loss: 0.0270 - accuracy: 0.9910 - val_loss: 0.0548 - val_accuracy: 0.9818\n",
      "\n",
      "Epoch 00005: val_loss improved from 0.05680 to 0.05480, saving model to output/class_weights.05-0.05.hdf5\n",
      "Epoch 6/15\n",
      "837/837 [==============================] - 145s 174ms/step - loss: 0.0211 - accuracy: 0.9931 - val_loss: 0.0518 - val_accuracy: 0.9873\n",
      "\n",
      "Epoch 00006: val_loss improved from 0.05480 to 0.05183, saving model to output/class_weights.06-0.05.hdf5\n",
      "Epoch 7/15\n",
      "837/837 [==============================] - 142s 170ms/step - loss: 0.0216 - accuracy: 0.9926 - val_loss: 0.0674 - val_accuracy: 0.9801\n",
      "\n",
      "Epoch 00007: val_loss did not improve from 0.05183\n",
      "Epoch 8/15\n",
      "837/837 [==============================] - 144s 171ms/step - loss: 0.0145 - accuracy: 0.9955 - val_loss: 0.0674 - val_accuracy: 0.9826\n",
      "\n",
      "Epoch 00008: val_loss did not improve from 0.05183\n",
      "Epoch 9/15\n",
      "837/837 [==============================] - 142s 170ms/step - loss: 0.0143 - accuracy: 0.9952 - val_loss: 0.0911 - val_accuracy: 0.9801\n",
      "\n",
      "Epoch 00009: ReduceLROnPlateau reducing learning rate to 9.999999747378752e-06.\n",
      "\n",
      "Epoch 00009: val_loss did not improve from 0.05183\n",
      "Epoch 10/15\n",
      "837/837 [==============================] - 142s 169ms/step - loss: 0.0081 - accuracy: 0.9976 - val_loss: 0.0495 - val_accuracy: 0.9890\n",
      "\n",
      "Epoch 00010: val_loss improved from 0.05183 to 0.04945, saving model to output/class_weights.10-0.05.hdf5\n",
      "Epoch 11/15\n",
      "837/837 [==============================] - 142s 169ms/step - loss: 0.0045 - accuracy: 0.9990 - val_loss: 0.0443 - val_accuracy: 0.9907\n",
      "\n",
      "Epoch 00011: val_loss improved from 0.04945 to 0.04428, saving model to output/class_weights.11-0.04.hdf5\n",
      "Epoch 12/15\n",
      "837/837 [==============================] - 142s 170ms/step - loss: 0.0037 - accuracy: 0.9990 - val_loss: 0.0434 - val_accuracy: 0.9903\n",
      "\n",
      "Epoch 00012: val_loss improved from 0.04428 to 0.04341, saving model to output/class_weights.12-0.04.hdf5\n",
      "Epoch 13/15\n",
      "837/837 [==============================] - 143s 170ms/step - loss: 0.0034 - accuracy: 0.9993 - val_loss: 0.0430 - val_accuracy: 0.9903\n",
      "\n",
      "Epoch 00013: val_loss improved from 0.04341 to 0.04304, saving model to output/class_weights.13-0.04.hdf5\n",
      "Epoch 14/15\n",
      "837/837 [==============================] - 153s 183ms/step - loss: 0.0029 - accuracy: 0.9993 - val_loss: 0.0470 - val_accuracy: 0.9903\n",
      "\n",
      "Epoch 00014: val_loss did not improve from 0.04304\n",
      "Epoch 15/15\n",
      "837/837 [==============================] - 152s 182ms/step - loss: 0.0028 - accuracy: 0.9996 - val_loss: 0.0454 - val_accuracy: 0.9898\n",
      "\n",
      "Epoch 00015: val_loss did not improve from 0.04304\n"
     ]
    }
   ],
   "source": [
    "history = model.fit(x=X_train, \n",
    "                    y = y_train,\n",
    "                    validation_split=0.15,\n",
    "                    epochs=15,\n",
    "                    batch_size = 16,\n",
    "                   callbacks=callback)\n"
   ]
  },
  {
   "cell_type": "code",
   "execution_count": 17,
   "id": "6cfbed38",
   "metadata": {},
   "outputs": [
    {
     "data": {
      "image/png": "[encoded data removed]",
      "text/plain": [
       "<Figure size 432x288 with 1 Axes>"
      ]
     },
     "metadata": {
      "needs_background": "light"
     },
     "output_type": "display_data"
    },
    {
     "data": {
      "image/png": "[encoded data removed]",
      "text/plain": [
       "<Figure size 432x288 with 1 Axes>"
      ]
     },
     "metadata": {
      "needs_background": "light"
     },
     "output_type": "display_data"
    }
   ],
   "source": [
    "import matplotlib.pyplot as plt\n",
    "\n",
    "plt.plot(history.history['accuracy'])\n",
    "plt.plot(history.history['val_accuracy'])\n",
    "plt.legend(['train acc','validation acc'])\n",
    "plt.ylabel('auc')\n",
    "plt.xlabel('epochs')\n",
    "plt.show()\n",
    "\n",
    "plt.plot(history.history['loss'])\n",
    "plt.plot(history.history[ 'val_loss'])\n",
    "plt.legend(['train loss','validation loss'])\n",
    "plt.ylabel('loss')\n",
    "plt.xlabel('epochs')\n",
    "plt.show()\n"
   ]
  },
  {
   "cell_type": "code",
   "execution_count": 21,
   "id": "37d03841",
   "metadata": {},
   "outputs": [
    {
     "ename": "NameError",
     "evalue": "name 'File' is not defined",
     "output_type": "error",
     "traceback": [
      "\u001b[0;31m---------------------------------------------------------------------------\u001b[0m",
      "\u001b[0;31mNameError\u001b[0m                                 Traceback (most recent call last)",
      "\u001b[0;32m/var/folders/6b/0t1qb1d92f72c46kvp35pwfc0000gn/T/ipykernel_47032/4216156311.py\u001b[0m in \u001b[0;36m<module>\u001b[0;34m\u001b[0m\n\u001b[1;32m      3\u001b[0m \u001b[0;34m\u001b[0m\u001b[0m\n\u001b[1;32m      4\u001b[0m \u001b[0;32mwith\u001b[0m \u001b[0mopen\u001b[0m\u001b[0;34m(\u001b[0m\u001b[0mfilename\u001b[0m\u001b[0;34m,\u001b[0m \u001b[0;34m'wb'\u001b[0m\u001b[0;34m)\u001b[0m \u001b[0;32mas\u001b[0m \u001b[0mf\u001b[0m\u001b[0;34m:\u001b[0m\u001b[0;34m\u001b[0m\u001b[0;34m\u001b[0m\u001b[0m\n\u001b[0;32m----> 5\u001b[0;31m     \u001b[0mmodel_file\u001b[0m \u001b[0;34m=\u001b[0m \u001b[0mFile\u001b[0m\u001b[0;34m(\u001b[0m\u001b[0mf\u001b[0m\u001b[0;34m)\u001b[0m\u001b[0;34m\u001b[0m\u001b[0;34m\u001b[0m\u001b[0m\n\u001b[0m\u001b[1;32m      6\u001b[0m     \u001b[0mpickle\u001b[0m\u001b[0;34m.\u001b[0m\u001b[0mdump\u001b[0m\u001b[0;34m(\u001b[0m\u001b[0mmodel\u001b[0m\u001b[0;34m,\u001b[0m \u001b[0mmodel_file\u001b[0m\u001b[0;34m)\u001b[0m\u001b[0;34m\u001b[0m\u001b[0;34m\u001b[0m\u001b[0m\n",
      "\u001b[0;31mNameError\u001b[0m: name 'File' is not defined"
     ]
    }
   ],
   "source": [
    "import pickle\n",
    "filename = 'models/classification_model.sav'\n",
    "\n",
    "with open(filename, 'wb') as f:\n",
    "    model_file = File(f)\n",
    "    pickle.dump(model, model_file)"
   ]
  },
  {
   "cell_type": "code",
   "execution_count": 19,
   "id": "547ded02",
   "metadata": {},
   "outputs": [
    {
     "name": "stdout",
     "output_type": "stream",
     "text": [
      "WARNING:tensorflow:`input_shape` is undefined or non-square, or `rows` is not in [96, 128, 160, 192, 224]. Weights for input shape (224, 224) will be loaded as the default.\n"
     ]
    }
   ],
   "source": [
    "model = build_model(input_shape=(256,256,3))\n",
    "model.compile(optimizer= tf.keras.optimizers.Adam(learning_rate=0.001),\n",
    "                         loss='binary_crossentropy',\n",
    "                         metrics=['accuracy'])\n",
    "model.load_weights('output/class_weights.13-0.04.hdf5')\n",
    "\n"
   ]
  },
  {
   "cell_type": "code",
   "execution_count": null,
   "id": "bd0912e1",
   "metadata": {},
   "outputs": [],
   "source": []
  },
  {
   "cell_type": "code",
   "execution_count": 20,
   "id": "05f0837f",
   "metadata": {
    "scrolled": true
   },
   "outputs": [
    {
     "name": "stderr",
     "output_type": "stream",
     "text": [
      "2022-09-26 15:48:33.262558: I tensorflow/core/grappler/optimizers/custom_graph_optimizer_registry.cc:112] Plugin optimizer for device_type GPU is enabled.\n"
     ]
    },
    {
     "name": "stdout",
     "output_type": "stream",
     "text": [
      "87/87 [==============================] - 9s 89ms/step - loss: 0.0920 - accuracy: 0.9871\n"
     ]
    },
    {
     "data": {
      "text/plain": [
       "[0.09199728816747665, 0.9870503544807434]"
      ]
     },
     "execution_count": 20,
     "metadata": {},
     "output_type": "execute_result"
    }
   ],
   "source": [
    "model.evaluate(X_test,y_test)\n",
    "\n"
   ]
  },
  {
   "cell_type": "code",
   "execution_count": null,
   "id": "9db39564",
   "metadata": {},
   "outputs": [],
   "source": [
    "predictions = model.predict(X_test)\n",
    "# predictions = predictions.reshape(138,3)\n"
   ]
  },
  {
   "cell_type": "code",
   "execution_count": null,
   "id": "539c37cc",
   "metadata": {},
   "outputs": [],
   "source": [
    "pred = np.zeros((y_test.shape[0]))\n",
    "for i,p in enumerate(predictions):\n",
    "    l = np.argmax(p)\n",
    "    pred[i] = l\n",
    "    "
   ]
  },
  {
   "cell_type": "code",
   "execution_count": null,
   "id": "565a106a",
   "metadata": {},
   "outputs": [],
   "source": [
    "# predictions = [int(xx[0]<xx[1]) for xx in predictions]\n",
    "y = [np.argmax(yy) for yy in y_test]\n"
   ]
  },
  {
   "cell_type": "code",
   "execution_count": null,
   "id": "1045576e",
   "metadata": {},
   "outputs": [],
   "source": [
    "from sklearn.metrics import classification_report\n",
    "print(classification_report(y,pred))\n"
   ]
  },
  {
   "cell_type": "code",
   "execution_count": null,
   "id": "90a65bdc",
   "metadata": {},
   "outputs": [],
   "source": [
    "import pandas as pd\n",
    "df = pd.DataFrame({'ytrue':y,'pred':pred})\n",
    "print(df['ytrue'].value_counts())\n",
    "print(df['pred'].value_counts())\n"
   ]
  },
  {
   "cell_type": "code",
   "execution_count": null,
   "id": "94aa0aa1",
   "metadata": {},
   "outputs": [],
   "source": [
    "from sklearn.metrics import confusion_matrix,ConfusionMatrixDisplay\n",
    "import matplotlib.pyplot as plt\n",
    "cm = confusion_matrix(y,pred,labels=[0,1,2])\n",
    "disp = ConfusionMatrixDisplay(confusion_matrix=cm,display_labels=['NORM','NTB','TB'])\n",
    "disp.plot()\n",
    "\n",
    "plt.savefig('confusionmatrix.png')\n",
    "plt.show()\n"
   ]
  },
  {
   "cell_type": "code",
   "execution_count": null,
   "id": "495cd3e4",
   "metadata": {},
   "outputs": [],
   "source": [
    "from sklearn.metrics import classification_report\n",
    "print(classification_report(y,pred,labels=[0,1,2]))"
   ]
  },
  {
   "cell_type": "code",
   "execution_count": null,
   "id": "705c5d9a",
   "metadata": {},
   "outputs": [],
   "source": [
    "from scripts.create_dataset import get_img_array\n",
    "from scripts.display_heatmap import save_and_display_gradcam\n",
    "from scripts.model_explanation import make_cam_heatmap, make_gradcam_heatmap, make_grad_cam_pp_heatmap"
   ]
  },
  {
   "cell_type": "code",
   "execution_count": null,
   "id": "5203ad41",
   "metadata": {},
   "outputs": [],
   "source": [
    "import numpy as np\n",
    "import matplotlib.cm as cm\n",
    "import matplotlib.pyplot as plt\n",
    "from IPython.display import Image, display"
   ]
  },
  {
   "cell_type": "code",
   "execution_count": null,
   "id": "3c4e686d",
   "metadata": {},
   "outputs": [],
   "source": []
  },
  {
   "cell_type": "code",
   "execution_count": null,
   "id": "a9288cf2",
   "metadata": {
    "scrolled": false
   },
   "outputs": [],
   "source": [
    "plt.figure(figsize=(16, 16))\n",
    "\n",
    "for count in range(1,11):#(len(filename)):\n",
    "#     im = cv2.imread(filename[count])\n",
    "#     im = cv2.resize(im, (256,256), interpolation = cv2.INTER_AREA)\n",
    "#     img = tf.keras.preprocessing.image.load_img(\n",
    "#         filename[count],\n",
    "#         color_mode='rgb', \n",
    "#         target_size=(256, 256))\n",
    "#     img = tf.keras.preprocessing.image.img_to_array(img)\n",
    "    img = X_test[count+10]\n",
    "    im = img\n",
    "    img = np.reshape(img,(1,256,256,3))\n",
    "    print(count,max(model.predict(img)))\n",
    "   \n",
    "    heatmap_cam = make_cam_heatmap(img, model, 'out_relu')\n",
    "    heatmap_gradcam = make_grad_cam_pp_heatmap(img, model, 'out_relu')\n",
    "    save_and_display_gradcam(im, heatmap_gradcam,2*count-1,title='gradcam')\n",
    "    save_and_display_gradcam(im, heatmap_cam,2*count,title='cam')\n",
    "    "
   ]
  },
  {
   "cell_type": "code",
   "execution_count": null,
   "id": "9aa67165",
   "metadata": {},
   "outputs": [],
   "source": [
    "from tensorflow.keras.preprocessing.image import load_img,img_to_array\n",
    "from tensorflow.keras.models import Model\n",
    "\n",
    "layer_dict = dict([(layer.name, layer) for layer in model.layers])\n",
    "\n",
    "layer_name = 'out_relu'\n",
    "\n",
    "mdl = Model(inputs=model.inputs, outputs=layer_dict[layer_name].output)\n",
    "\n",
    "# Perpare the image\n",
    "image = load_img(filename[1], target_size=(256, 256))\n",
    "image = img_to_array(image)\n",
    "image = np.expand_dims(image, axis=0)\n",
    "# image = preprocess_input(image)\n",
    "\n",
    "# Apply the model to the image\n",
    "feature_maps = mdl.predict(image)\n",
    "\n",
    "square = 8\n",
    "index = 1\n",
    "for _ in range(square):\n",
    "    for _ in range(square):\n",
    "        \n",
    "        ax = plt.subplot(square, square, index)\n",
    "        ax.set_xticks([])\n",
    "        ax.set_yticks([])\n",
    "\n",
    "        plt.imshow(feature_maps[0, :, :, index-1], cmap='jet')\n",
    "        index += 1\n",
    "        \n",
    "plt.show()"
   ]
  },
  {
   "cell_type": "code",
   "execution_count": null,
   "id": "5bc2de73",
   "metadata": {},
   "outputs": [],
   "source": []
  }
 ],
 "metadata": {
  "interpreter": {
   "hash": "c641dcc79c3856d1be59a96c787becfafecb59e8628e81394d4d1c4920d52c75"
  },
  "kernelspec": {
   "display_name": "Python 3 (ipykernel)",
   "language": "python",
   "name": "python3"
  },
  "language_info": {
   "codemirror_mode": {
    "name": "ipython",
    "version": 3
   },
   "file_extension": ".py",
   "mimetype": "text/x-python",
   "name": "python",
   "nbconvert_exporter": "python",
   "pygments_lexer": "ipython3",
   "version": "3.9.13"
  }
 },
 "nbformat": 4,
 "nbformat_minor": 5
}
